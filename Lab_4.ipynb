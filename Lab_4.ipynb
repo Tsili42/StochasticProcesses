{
 "cells": [
  {
   "cell_type": "markdown",
   "metadata": {
    "deletable": true,
    "editable": true
   },
   "source": [
    "# Εργαστηριακή Άσκηση 4\n",
    "\n",
    "Σε αυτό το εργαστήριο κάνουμε περιπάτους. Συγκεκριμένα θα υπολογίσουμε χρόνους διαφυγής για διάφορους περιπάτους στον $\\mathbb{Z}$ και $\\mathbb{Z}^2$.\n",
    "\n",
    "Στα πλαίσια του εργαστηρίου θα χρησιμοποιήσουμε τις παρακάτω βιβλιοθήκες."
   ]
  },
  {
   "cell_type": "code",
   "execution_count": 1,
   "metadata": {
    "collapsed": false,
    "deletable": true,
    "editable": true
   },
   "outputs": [],
   "source": [
    "import numpy as np\n",
    "from numpy.random import choice\n",
    "\n",
    "import matplotlib.pyplot as plt\n",
    "%matplotlib inline\n",
    "plt.rcParams['figure.figsize'] = (10, 6)  # default figure size"
   ]
  },
  {
   "cell_type": "markdown",
   "metadata": {
    "deletable": true,
    "editable": true
   },
   "source": [
    "## Απλός Συμμετρικός περίπατος στον $\\mathbb{Z}$\n",
    "\n",
    "Για τον απλό συμμετρικό περίπατο στον $\\mathbb{Z}$ δεν θα χρησιμοποιήσουμε τη γνωστή βιβλιοθήκη `simple_markov_chain_lib` αλλά θα υλοποιήσουμε μια αλυσίδα εξ αρχής καθώς είναι αρκετά απλό.\n",
    "\n",
    "Για να υλοποιήσουμε μια μαρκοβιανή αλυσίδα χρειαζόμαστε (κατ' ελάχιστο) 2 πράγματα:\n",
    "\n",
    "1. Μία μεταβλητή για να αποθηκεύσουμε την παρούσα κατάσταση\n",
    "2. Μία \"συνάρτηση\" που να μας δίνει την επόμενη κατάσταση, η οποία μπορεί να εξαρτάται από την παρούσα κατάσταση και τον χρόνο.\n",
    "\n",
    "Στο παρακάτω κελί κώδικα υλοποιούμε τον απλό συμμετρικό τυχαίο περίπατο για 10 βήματα."
   ]
  },
  {
   "cell_type": "code",
   "execution_count": 2,
   "metadata": {
    "collapsed": false,
    "deletable": true,
    "editable": true
   },
   "outputs": [
    {
     "name": "stdout",
     "output_type": "stream",
     "text": [
      "-1\n",
      "0\n",
      "-1\n",
      "-2\n",
      "-1\n",
      "0\n",
      "-1\n",
      "-2\n",
      "-3\n",
      "-4\n"
     ]
    }
   ],
   "source": [
    "np.random.seed(2017)  # for reproducibility\n",
    "\n",
    "x = 0  # current state of MC\n",
    "steps = [-1, 1]\n",
    "probs = [0.5, 0.5]\n",
    "\n",
    "for n in range(10):\n",
    "    x += choice(steps, p=probs)  # select 1 step at random\n",
    "    print(x)\n",
    "    "
   ]
  },
  {
   "cell_type": "markdown",
   "metadata": {
    "deletable": true,
    "editable": true
   },
   "source": [
    "Η μεταβλητή `x` αποθηκεύει την υπάρχουσα κατάσταση ξεκινώντας από το 0. Σε κάθε επανάληψη προσθέτουμε ένα από τα 2 πιθανά βήματα (αριστερά ή δεξία) με ίση πιθανότητα.\n",
    "\n",
    "Η συνάρτηση `choice` διαλέgει ένα από τα 2 πιθανά βήματα (`steps`) με πιθανότητα (`p=probs`). Για την περίπτωση που όλα τα ενδεχόμενα είναι ισοπίθανα το `p` μπορεί να παραλειφθεί αλλά εδώ το προσθέτουμε για πληρότητα. Ως συνήθως μπορείτε να δείτε αναλυτικά τις οδηγίες για κάθε συνάρτηση χρησιμοποιώντας το **`?`**"
   ]
  },
  {
   "cell_type": "code",
   "execution_count": 20,
   "metadata": {
    "collapsed": true,
    "deletable": true,
    "editable": true
   },
   "outputs": [],
   "source": [
    "choice?"
   ]
  },
  {
   "cell_type": "markdown",
   "metadata": {
    "deletable": true,
    "editable": true
   },
   "source": [
    "## Python - Generators\n",
    "\n",
    "Για ευκολία (και λιγότερο γράψιμο) θα υλοποιήσουμε τον περίπατο σαν \"συνάρτηση-γεννήτρια\" (`generator`). \n",
    "Μία συνάρτηση-γεννήτρια λειτουργεί όπως μια κανονική συνάρτηση με μόνη διαφορά ότι \n",
    "\"θυμάται\" την προηγούμενη κατάσταση της.\n",
    "\n",
    "Το προηγούμενο παράδειγμα με χρήση γεννήτριας γράφεται ως:\n"
   ]
  },
  {
   "cell_type": "code",
   "execution_count": 6,
   "metadata": {
    "collapsed": false,
    "deletable": true,
    "editable": true
   },
   "outputs": [
    {
     "name": "stdout",
     "output_type": "stream",
     "text": [
      "-1\n",
      "0\n",
      "-1\n",
      "-2\n",
      "-1\n",
      "0\n",
      "-1\n",
      "-2\n",
      "-3\n",
      "-4\n"
     ]
    }
   ],
   "source": [
    "np.random.seed(2017)  # same results are previous run\n",
    "\n",
    "# random walk generator:\n",
    "def rand_walk_Z(start = 0, probs = (0.5, 0.5)):\n",
    "    x = start\n",
    "    steps = [-1, 1]  # probs order should be (left, right)\n",
    "    while True:  # continue for ever in needed\n",
    "        x += choice(steps, p=probs)\n",
    "        yield x  # it's a generator!\n",
    "\n",
    "walker = rand_walk_Z()  # start a new markov chain\n",
    "for n in range(10):\n",
    "    x = next(walker)  # take 1 step!\n",
    "    print(x)\n"
   ]
  },
  {
   "cell_type": "markdown",
   "metadata": {
    "deletable": true,
    "editable": true
   },
   "source": [
    "Η εντολή\n",
    "\n",
    "`walker = rand_walk_Z()` \n",
    "\n",
    "δημιουργεί μια καινούργια αλυσίδα. Η αλυσίδα είναι στην αρχική κατάσταση και περιμένει να προχωρήσει.\n",
    "Όταν δώσουμε την εντολή\n",
    "\n",
    "`x = next(walker)`\n",
    "\n",
    "Η Python τρέχει τον κώδικα μέχρι να βρει την εντολή **`yield`** και επιστρέφει την μεταβλητή x.\n",
    "\n",
    "Μια κανονική συνάρτηση θα σταματούσε και θα \"εξαφανιζόταν\" σε αυτό το σημείο, την επόμενη φορά που θα την καλούσατε θα ξανάρχιζε από την αρχή. Αλλά επειδή χρησιμοποιήσαμε το `yield` η Python καταλαβαίνει ότι η συνάρτηση `rand_walk_Z` δεν είναι κανονική συνάρτηση αλλά *συνάρτηση-γεννήτρια*!\n",
    "\n",
    "Επομένως, την επόμενη φορά που θα καλέσουμε την συνάρτηση με το `next` η εκτέλεση θα συνεχίσει από το `yield` (το σημείο που είχε σταματήσει). Επειδή έχουμε βάλει το `yield` μέσα σε *infinite loop*  (`while True`) η Python θα συνεχίζει να μας γυρίζει τιμές όσες φορές και αν προχωρήσουμε (`next`) την αλυσίδα (γι' αυτό λέγεται γεννήτρια).\n",
    "\n",
    "Στη συνέχεια αυτού του εργαστηρίου θα κάνουμε χρήση γεννητριών για να προσομοιώσουμε τους περιπάτους αλλά **εσείς μπορείτε να λύσετε τις ασκήσεις είτε με γεννήτριες είτε με βρόχους `for`.**"
   ]
  },
  {
   "cell_type": "markdown",
   "metadata": {
    "deletable": true,
    "editable": true
   },
   "source": [
    "### Εφαρμογή: Χρόνος Διαφυγής από Διάστημα\n",
    "\n",
    "Σε αυτή την πρώτη εφαρμογή θα προσομοιώσουμε τον απλό συμμετρικό περίπατο μέχρι να βγει από ένα διάστημα $[a,b]$.\n",
    "\n",
    "\n",
    "Το παρακάτω κελί κώδικα υλοποιεί αυτή τη περίπτωση και οπτικοποιεί το αποτέλεσμα με ένα γράφημα χρόνου-θέσης για 3 διαφορετικούς περιπάτους"
   ]
  },
  {
   "cell_type": "code",
   "execution_count": 11,
   "metadata": {
    "collapsed": false,
    "deletable": true,
    "editable": true
   },
   "outputs": [
    {
     "data": {
      "image/png": "[encoded data removed]",
      "text/plain": [
       "<matplotlib.figure.Figure at 0xb74230>"
      ]
     },
     "metadata": {},
     "output_type": "display_data"
    }
   ],
   "source": [
    "fig, ax = plt.subplots()  # initiate plots\n",
    "\n",
    "a = -7  # lower boundary\n",
    "b = 10  # upper boundary\n",
    "\n",
    "for col in ['red', 'green', 'blue']:  # 3 random walks r-ed, g-reen, b-lue\n",
    "    walker = rand_walk_Z()  # start new symmetric walk from 0\n",
    "    x = 0  # start position 0\n",
    "    chain = [x]  # save positions to plot\n",
    "    while a <= x <= b:\n",
    "        x = next(walker)\n",
    "        chain.append(x)\n",
    "    ax.plot(chain, color=col)\n",
    "\n",
    "# To look nicer\n",
    "plt.axhspan(a, b, color = '#cccccc', alpha = 0.8)  # box between a & b\n",
    "ax.grid()  # adds grid lines\n",
    "plt.xlabel('Time')\n",
    "plt.ylabel('Position')\n",
    "\n",
    "# Show image!\n",
    "plt.show()"
   ]
  },
  {
   "cell_type": "markdown",
   "metadata": {
    "deletable": true,
    "editable": true
   },
   "source": [
    "Δοκιμάστε να ξανατρέξετε το προηγούμενο κελί για `a=-70` και `b=100`.\n",
    "Αυτό που βλέπετε αρχίζει να μοιάζει με μονοπάτια της κίνησης Brown που γνωρίσαμε\n",
    "στην αρχή του μαθήματος (Αν θέλετε να μάθετε γιατί, αναζητήστε στην Wikipedia το λήμμα \n",
    "Donsker's invariance principle).\n",
    "\n",
    "#### Παρατηρήσεις \n",
    "\n",
    "Η εντολή **`plt.plot`** παίρνει πολλές παραμέτρους.\n",
    "Ως συνήθως μπορείτε να τις δείτε με το **?** (επόμενο κελί).\n",
    "Δύο από τις πιο χρήσιμες είναι οι:\n",
    "\n",
    "1. `color`: καθορίζει το χρώμα\n",
    "2. `linetype` ή `lty`: καθορίζει το είδος\n",
    "\n",
    "Δείτε το documentation για λεπτομέριες."
   ]
  },
  {
   "cell_type": "code",
   "execution_count": 19,
   "metadata": {
    "collapsed": true,
    "deletable": true,
    "editable": true
   },
   "outputs": [],
   "source": [
    "plt.hist?"
   ]
  },
  {
   "cell_type": "markdown",
   "metadata": {
    "deletable": true,
    "editable": true
   },
   "source": [
    "## Τυχαίος περίπατος στον $\\mathbb{Z}^2$\n",
    "\n",
    "Για να υλοποιήσουμε τον τυχαίο περίπατο στο $\\mathbb{Z}^2$ πρέπει να δημιουργήσουμε μια νέα γεννήτρια. Στο παρακάτω κελί σας δίνουμε την `rand_walk_Z2`.\n",
    "\n",
    "Η λογική είναι η ίδια με την `rand_walk_Z` απλά αυτή τη φορά:\n",
    "\n",
    "* χρησιμοποιούμε 2 μεταβλητές `x, y` για να προσδιορίσουμε τη θέση\n",
    "* η `steps` είναι μια λίστα από πίνακες που παριστάνουν τις δυνατές μετατοπίσεις\n",
    "* Σε κάθε επανάληψη διαλέγουμε ένα στοιχείο της `steps` και το προσθέτουμε στα `x` και `y` αντίστοιχα"
   ]
  },
  {
   "cell_type": "code",
   "execution_count": 13,
   "metadata": {
    "collapsed": true,
    "deletable": true,
    "editable": true
   },
   "outputs": [],
   "source": [
    "# random walk in Z^2 generator:\n",
    "def rand_walk_Z2(start=(0, 0), probs=(0.25, 0.25, 0.25, 0.25)):\n",
    "    # probs order (left, right, bottom, up)\n",
    "    x, y = start\n",
    "    steps = [(-1, 0), (1, 0), (0, -1), (0, 1)]\n",
    "    while True:\n",
    "        dx, dy = steps[choice(4, p=probs)]  # choice(4) = choose a number in [0,3]\n",
    "        x, y = x + dx, y + dy\n",
    "        yield x, y"
   ]
  },
  {
   "cell_type": "markdown",
   "metadata": {
    "deletable": true,
    "editable": true
   },
   "source": [
    "## Εφαρμογή: Χρόνος Διαφυγής από Δίσκο\n",
    "\n",
    "Για να εξοικειωθούμε με τη συνάρτηση θα υλοποιήσουμε τον απλό συμμετρικό περίπατο στον $\\mathbb{Z}^2$ μέχρι να βγούμε από τον δίσκο ακτίνας $r = 20$.\n",
    "\n",
    "Το παρακάτω κελί κώδικα προσομοιώνει αυτή την αλυσίδα 3 φορές."
   ]
  },
  {
   "cell_type": "code",
   "execution_count": 14,
   "metadata": {
    "collapsed": false,
    "deletable": true,
    "editable": true
   },
   "outputs": [
    {
     "data": {
      "image/png": "[encoded data removed]",
      "text/plain": [
       "<matplotlib.figure.Figure at 0x217b6b0>"
      ]
     },
     "metadata": {},
     "output_type": "display_data"
    }
   ],
   "source": [
    "fig, ax = plt.subplots()  # initiate plots\n",
    "\n",
    "r = 20  # radius of circle boundary\n",
    "r2 = r**2  # square of radius\n",
    "\n",
    "for c in 'rgb':  # 3 random walks r-ed, g-reen, b-lue, 1st loop c=r, 2nd loop c=g, 3rd loop c=b \n",
    "    x, y = 0, 0  # start position 0\n",
    "    X, Y = [0], [0]  # store positions\n",
    "    walker = rand_walk_Z2()  # start new symmetric walk from 0, 0\n",
    "    while x**2 + y**2 < r2:\n",
    "        x, y = next(walker)\n",
    "        X.append(x)\n",
    "        Y.append(y)\n",
    "    #X = np.array(X) + np.random.randn(len(X))/3\n",
    "    #Y = np.array(Y) + np.random.randn(len(Y))/3\n",
    "    ax.plot(X, Y, color=c, alpha = 0.8)\n",
    "\n",
    "# To look nicer\n",
    "circle = plt.Circle((0, 0), r, color=\"#cccccc\", alpha=0.5)\n",
    "ax.add_artist(circle)  # draw a circle\n",
    "ax.set_xlim([-r-1, r+1])\n",
    "ax.set_ylim([-r-1, r+1])\n",
    "ax.set_aspect('equal')  # set aspect ratio 1:1\n",
    "ax.grid()  # adds grid lines\n",
    "plt.xlabel('X')\n",
    "plt.ylabel('Y')\n",
    "\n",
    "# To Show image!\n",
    "plt.show()"
   ]
  },
  {
   "cell_type": "markdown",
   "metadata": {
    "deletable": true,
    "editable": true
   },
   "source": [
    "Η παράμετρος `alpha` κάνει τις γραμμές πιο διαφανείς ώστε να γίνονται λίγο πιο εμφανείς οι περιοχές που η αλυσίδα επισκέφτηκε πολλές φορές."
   ]
  },
  {
   "cell_type": "markdown",
   "metadata": {
    "deletable": true,
    "editable": true
   },
   "source": [
    "## Εφαρμογή: Κατανομή χρόνου εξόδου\n",
    "\n",
    "Στη συνέχεια θα προσομοιώσουμε την αλυσίδα για `Ν = 1.000` φορές.\n",
    "Για κάθε προσομοίωση θα αποθηκεύσουμε το χρόνο που χρειάστηκε η αλυσίδα για να βγεί για πρώτη φορά από τον δίσκο."
   ]
  },
  {
   "cell_type": "code",
   "execution_count": 15,
   "metadata": {
    "collapsed": true,
    "deletable": true,
    "editable": true
   },
   "outputs": [],
   "source": [
    "r = 20  # radius of circle boundary\n",
    "r2 = r**2  # square of radius\n",
    "\n",
    "N = 1000  # sample size\n",
    "escape_time = np.zeros(N, dtype=int)  # to store the exit time\n",
    "for n in range(N):\n",
    "    walker = rand_walk_Z2()\n",
    "    x, y = (0, 0)\n",
    "    t = 0\n",
    "    while x**2 + y**2 < r2:\n",
    "        x, y = next(walker)\n",
    "        t += 1\n",
    "    escape_time[n] = t"
   ]
  },
  {
   "cell_type": "markdown",
   "metadata": {
    "deletable": true,
    "editable": true
   },
   "source": [
    "Τώρα που έχουμε N=1000 τυχαία δείγματα του χρόνου εξόδου μπορούμε να δούμε μια εκτίμηση της κατανομής του, σχεδιάζοντας το ιστόγραμμα των τιμών του στο δείγμα μας.\n",
    "\n",
    "Στο παρακάτω κελί κώδικα σχεδιάζουμε αυτό το ιστόγραμμα χρησιμοποιώντας διαιρώντας το εύρος τιμών του `escape_time` σε 30 περιοχές (`bin=30`)."
   ]
  },
  {
   "cell_type": "code",
   "execution_count": 16,
   "metadata": {
    "collapsed": false,
    "deletable": true,
    "editable": true
   },
   "outputs": [
    {
     "data": {
      "image/png": "[encoded data removed]",
      "text/plain": [
       "<matplotlib.figure.Figure at 0x21eb670>"
      ]
     },
     "metadata": {},
     "output_type": "display_data"
    }
   ],
   "source": [
    "plt.hist(escape_time, bins=30, edgecolor='black', normed=True)\n",
    "plt.xlabel('Time')\n",
    "plt.ylabel('Density')\n",
    "plt.show()"
   ]
  },
  {
   "cell_type": "markdown",
   "metadata": {
    "deletable": true,
    "editable": true
   },
   "source": [
    "Η παράμετρος `normed=True` δηλώνει ότι θέλουμε την πυκνότητα πιθανότητας και όχι τη συχνότητα κάθε περιοχής τιμών.\n",
    "\n",
    "# Παραδοτέα\n",
    "\n",
    "Οι ασκήσεις που δίνονται μπορεί να απαιτούν μερικά δευτερόλεπτα για να τρέξουν ακόμα και αν τις έχετε γράψει σωστά.\n",
    "Αν οι χρόνοι αναμονής είναι μεγάλοι καλό είναι να δοκιμάσετε τον κώδικα σας για ένα μικρό αριθμό δειγμάτων (πχ 100) και αφού σιγουρευτείτε ότι είναι σωστός τότε να τρέξετε τον αριθμό δειγμάτων που ζητάει η άσκηση."
   ]
  },
  {
   "cell_type": "markdown",
   "metadata": {
    "deletable": true,
    "editable": true
   },
   "source": [
    "## Άσκηση 1\n",
    "\n",
    "Για τον απλό τυχαίο περίπατο, μέχρι αυτός να βγει από το $[-70, 100]$ προσομοιώστε:\n",
    "\n",
    "* 500 διαδρομές με τάση προς τα αριστερά $p(k, k+1) = \\frac{1}{5}, p(k,k-1) = \\frac{4}{5}$\n",
    "* 500 διαδρομές με τάση προς τα δεξιά $p(k, k+1) = \\frac{4}{5}, p(k,k-1) = \\frac{1}{5}$\n",
    "\n",
    "### Ερώτηση 1:\n",
    "\n",
    "* Σχεδιάστε τις 1000 διαδρομές σε ένα γράφημα χρόνου-θέσης.\n",
    "* Αυτές που έχουν τάση προς τα αριστερά με κόκκινο χρώμα και αυτές που έχουν τάση προς τα δεξιά με μπλέ \n",
    "* Σχολιάστε το αποτέλεσμα\n",
    "\n",
    "### Ερώτηση 2:\n",
    "\n",
    "* Σχεδιάστε το ιστόγραμμα των χρόνων εξόδου για τις δύο περιπτώσεις σε ένα κοινό γράφημα.\n",
    "* Το ιστόγραμμα που αντιστοιχεί στην αλυσίδα με τάση δεξιά να είναι μπλέ και το άλλο κόκκινο (όπως πριν)\n",
    "\n",
    "### Hints:\n",
    "\n",
    "* Αν χρησιμοποιήσετε τις συναρτήσεις γεννήτριας που δόθηκαν μπορείτε μέσω του probs να ρυθμίσετε τις πιθανότητες μετάβασης\n",
    "* Χρησιμοποιείστε την παράμετρο `alpha` και στο `plot` και στο `hist` ώστε να κάνετε τα αντικείμενα διαφανή και να φανεί καλύτερα τυχόν αλληλοεπικάλυψη."
   ]
  },
  {
   "cell_type": "markdown",
   "metadata": {
    "deletable": true,
    "editable": true
   },
   "source": [
    "## Άσκηση 2:\n",
    "\n",
    "Δημιουργήστε μία αλυσίδα που να κινείται στον $\\mathbb{Z}_+$ με πιθανότητες μετάβασης:\n",
    "\n",
    "* Για $k > 0$: $p(k, k+1) = \\frac{1}{3}$ και $p(k, k-1) = \\frac{2}{3}$\n",
    "* Για $k = 0$: $p(0, 1) = \\frac{1}{3}$ και $p(0, 0) = \\frac{2}{3}$\n",
    "\n",
    "Προσομοιώστε την αλυσίδα `1000` φορές.\n",
    "\n",
    "### Ερώτηση 1:\n",
    "\n",
    "Σχεδιάστε το ιστόγραμμα της θέσης $x_{100}$ όπου βρίσκεται η αλυσίδα μετά το εκατοστό βήμα της.\n",
    "\n",
    "### Ερώτηση 2:\n",
    "\n",
    "Έστω:\n",
    "\n",
    "$$ M_n = \\max_{0\\le k\\le n} X_k$$\n",
    "\n",
    "η δεξιότερη θέση που φτάνει η αλυσίδα στα $n$ πρώτα της βήματα.\n",
    "\n",
    "1. Κάντε ιστόγραμμα της κατανομής της $M_{1000}$\n",
    "2. Υπολογίστε τη μέση τιμή και τη διασπορά της.\n"
   ]
  },
  {
   "cell_type": "markdown",
   "metadata": {
    "deletable": true,
    "editable": true
   },
   "source": [
    "## Άσκηση 3\n",
    "\n",
    "Για τον τυχαίο περίπατο στο $\\mathbb{Z}^2$\n",
    "\n",
    "Προσομοιώστε 500 αλυσίδες και υπολογίστε το μέσο χρόνο που κάνει μια αλυσίδα για να βγει από τον δίσκο ακτίνας:\n",
    "\n",
    "$$ R = 10, 20, ..., 100 $$\n",
    "\n",
    "* Φτιάξτε ένα διάγραμμα $R$ - χρόνου εξόδου σε λογαριθμική κλίμακα.\n",
    "* Σχολιάστε τη σχέση των 2 μεταβλητών\n",
    "\n",
    "Στη συγκεριμένη άσκηση εκτός από μικρότερο αριθμό δειγμάτων είναι καλό να δοκιμάσετε τον κώδικα σας και για μικρά (~50) R στην αρχή καθώς η αλυσίδα μπορεί να χρειαστεί αρκετό χρόνο να ξεφύγει για μεγάλα R."
   ]
  }
 ],
 "metadata": {
  "kernelspec": {
   "display_name": "Python 3",
   "language": "python",
   "name": "python3"
  },
  "language_info": {
   "codemirror_mode": {
    "name": "ipython",
    "version": 3
   },
   "file_extension": ".py",
   "mimetype": "text/x-python",
   "name": "python",
   "nbconvert_exporter": "python",
   "pygments_lexer": "ipython3",
   "version": "3.6.0"
  }
 },
 "nbformat": 4,
 "nbformat_minor": 2
}
