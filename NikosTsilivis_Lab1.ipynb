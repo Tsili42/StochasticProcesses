{
 "cells": [
  {
   "cell_type": "code",
   "execution_count": 1,
   "metadata": {
    "collapsed": false
   },
   "outputs": [
    {
     "name": "stdout",
     "output_type": "stream",
     "text": [
      "At time 0 the chain is in state ABC\n",
      "At time 1 the chain is in state ABC\n",
      "At time 2 the chain is in state ABC\n",
      "At time 3 the chain is in state ABC\n",
      "At time 4 the chain is in state BAC\n",
      "At time 5 the chain is in state CBA\n",
      "At time 6 the chain is in state CBA\n",
      "At time 7 the chain is in state ACB\n",
      "At time 8 the chain is in state CAB\n",
      "At time 9 the chain is in state BCA\n",
      "At time 10 the chain is in state CBA\n",
      "At time 11 the chain is in state BCA\n",
      "At time 12 the chain is in state BCA\n",
      "At time 13 the chain is in state CBA\n",
      "At time 14 the chain is in state CBA\n",
      "At time 15 the chain is in state CBA\n",
      "At time 16 the chain is in state CBA\n",
      "At time 17 the chain is in state CBA\n",
      "At time 18 the chain is in state ACB\n",
      "At time 19 the chain is in state CAB\n",
      "At time 20 the chain is in state CAB\n"
     ]
    }
   ],
   "source": [
    "from simple_markov_chain_lib import markov_chain  # import markov chain simulator\n",
    "\n",
    "p = .3\n",
    "q = .2\n",
    "r = .5\n",
    "\n",
    "name1 = \"ABC\"\n",
    "name2 = \"ACB\"\n",
    "name3 = \"BAC\"\n",
    "name4 = \"BCA\"\n",
    "name5 = \"CAB\"\n",
    "name6 = \"CBA\"\n",
    "\n",
    "# Transition Table\n",
    "markov_table = {\n",
    "    name1: {name1: p, name3: q, name5: r},  \n",
    "    name2: {name2: p, name3: q, name5: r},\n",
    "    name3: {name1: p, name3: q, name6: r},\n",
    "    name4: {name1: p, name4: q, name6: r},\n",
    "    name5: {name2: p, name4: q, name5: r},\n",
    "    name6: {name2: p, name4: q, name6: r}\n",
    "}\n",
    "\n",
    "# Initial Distribution\n",
    "init_dist = {name1: 1.}  # we start from state ABC with probability 1\n",
    "\n",
    "mc = markov_chain(markov_table, init_dist)\n",
    "\n",
    "mc.start()\n",
    "print(\"At time {} the chain is in state {}\".format(mc.steps, mc.running_state))\n",
    "for i in range(20):\n",
    "    mc.move()\n",
    "    print(\"At time {} the chain is in state {}\".format(mc.steps, mc.running_state))"
   ]
  },
  {
   "cell_type": "markdown",
   "metadata": {},
   "source": [
    "## Άσκηση 11\n",
    "\n",
    "- Επιλέξαμε αυθαίρετα τιμές για τα $p$, $q$, $r$.\n",
    "- Οι πιθανές διατάξεις των βιβλίων είναι $3!=6$, άρα έχουμε $6$ πιθανές καταστάσεις για την αλυσίδα, δηλαδή $X = \\{ABC, ACB, BAC, BCA, CAB, CBA\\}$.\n",
    "- Ο πίνακας πιθανοτήτων μετάβασης προκύπτει άμεσα από την εκφώνηση, ως εξής:\n",
    "\n",
    "$$\n",
    "P = \n",
    "\\begin{pmatrix}\n",
    "p & 0 & q & 0 & r & 0 \\\\\n",
    "0 & p & q & 0 & r & 0 \\\\\n",
    "p & 0 & q & 0 & 0 & r \\\\\n",
    "p & 0 & 0 & q & 0 & r \\\\\n",
    "0 & p & 0 & q & r & 0 \\\\\n",
    "0 & p & 0 & q & 0 & r\n",
    "\\end{pmatrix}\n",
    "$$\n",
    "\n",
    "- Θεωρούμε πως τα βιβλία βρίσκονται αρχικά στην διάταξη $ABC$, δηλαδή $ \\pi_0 = (1, 0, 0, 0, 0, 0 ) $"
   ]
  }
 ],
 "metadata": {
  "kernelspec": {
   "display_name": "Python 3",
   "language": "python",
   "name": "python3"
  },
  "language_info": {
   "codemirror_mode": {
    "name": "ipython",
    "version": 3
   },
   "file_extension": ".py",
   "mimetype": "text/x-python",
   "name": "python",
   "nbconvert_exporter": "python",
   "pygments_lexer": "ipython3",
   "version": "3.6.0"
  }
 },
 "nbformat": 4,
 "nbformat_minor": 2
}
