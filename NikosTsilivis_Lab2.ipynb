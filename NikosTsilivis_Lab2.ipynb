{
 "cells": [
  {
   "cell_type": "markdown",
   "metadata": {},
   "source": [
    "# Άσκηση 33-35\n",
    "\n"
   ]
  },
  {
   "cell_type": "code",
   "execution_count": 4,
   "metadata": {
    "collapsed": false,
    "scrolled": true
   },
   "outputs": [
    {
     "name": "stdout",
     "output_type": "stream",
     "text": [
      " \n",
      "    The sample mean is 0.03870 and the sample variance is 0.00020\n",
      "    \n"
     ]
    }
   ],
   "source": [
    "import random\n",
    "random.seed(2016)  # for reproducibility\n",
    "import statistics as stat\n",
    "from simple_markov_chain_lib import markov_chain\n",
    "\n",
    "p = 1/6\n",
    "\n",
    "# A dictionary for the initial distibution. \n",
    "# We prescribe the initial distribution\n",
    "init_probs = {0: 1.0} \n",
    " \n",
    "# A dictionary for the transition probability  matrix. \n",
    "# Every state-key corresponds to a list with tuples of (Next_State,Probability) \n",
    "markov_table = {\n",
    "    0: {1: 1.},\n",
    "    1: {1: 2/3, 2: 1/3},\n",
    "    2: {0: p, 1: 1-p}\n",
    "}\n",
    " \n",
    "# Ok... we are ready now\n",
    "# Let's construct a Markov Chain. So let's call the constructor\n",
    "mc = markov_chain(markov_table, init_probs)\n",
    "\n",
    "phat = []\n",
    "M = 50\n",
    "\n",
    "for j in range(M):\n",
    "    ## Experiment parameters\n",
    "    N = 200 # or N = 20000   # number of samples\n",
    "    steps = 40   # the target time\n",
    "    counter = 0  # to count the number of times the event {X_40  = 0} occurs\n",
    "\n",
    "    ## Simulation\n",
    "    for i in range(N):\n",
    "        mc.start()  # new experiment\n",
    "        for j in range(steps):  mc.move()\n",
    "        if mc.running_state == 0:  counter += 1\n",
    "\n",
    "    phat.append(counter / N)\n",
    "    \n",
    "print(\n",
    "    \"\"\" \n",
    "    The sample mean is {0:.5f} and the sample variance is {1:.5f}\n",
    "    \"\"\".format(stat.mean(phat), stat.variance(phat))\n",
    ")\n"
   ]
  },
  {
   "cell_type": "markdown",
   "metadata": {},
   "source": [
    "## Απαντήσεις\n",
    "\n",
    "1. Για $N = 200$ η μέση εκτίμηση της $\\mathbb{P}_0[X_{40}=0]$ είναι $0.03870$, ενώ για $N = 20000$ είναι $0.04012$.\n",
    "2. Η θεωρητική τιμή που υπολογίσαμε ήταν $\\mathbb{P}_0[X_{40}=0] = 0.04$, επομένως τα αποτελέσματα είναι αρκετά κοντά.\n",
    "3. Για $N = 200$ η δειγματική διασπορά των $50$ εκτιμήσεων είναι $0.00020$, ενώ για $N = 20000$ είναι $0.00000$.\n",
    "4. Όχι, καθώς ο αριθμός των φορών που προσομοιάζεται η αλυσίδα είναι πολύ μεγάλος και στις $2$ περιπτώσεις, γεγονός που καθιστά την αρχική κατανομή της αλυσίδας αδιάφορη. Αυτό επαληθεύεται εύκολα και αν θέσουμε init_probs = {2: 1.0} και τρέξουμε ξανά τον παραπάνω κώδικα. \n"
   ]
  },
  {
   "cell_type": "markdown",
   "metadata": {},
   "source": [
    "# Άσκηση 38"
   ]
  },
  {
   "cell_type": "code",
   "execution_count": 5,
   "metadata": {
    "collapsed": false
   },
   "outputs": [
    {
     "name": "stdout",
     "output_type": "stream",
     "text": [
      "\n",
      "    We executed 1000000 times the markov chain\n",
      "    and player A won 735455 times.\n",
      "    So we estimate the probability of him to win to be 0.735455\n",
      "    \n"
     ]
    }
   ],
   "source": [
    "import random\n",
    "random.seed(2016)  # for reproducibility\n",
    "import statistics as stat\n",
    "from simple_markov_chain_lib import markov_chain\n",
    "\n",
    "name1 = \"0-0\"\n",
    "name2 = \"15-0\"\n",
    "name3 = \"0-15\"\n",
    "name4 = \"30-0\"\n",
    "name5 = \"15-15\"\n",
    "name6 = \"0-30\"\n",
    "name7 = \"40-0\"\n",
    "name8 = \"30-15\"\n",
    "name9 = \"15-30\"\n",
    "name10 = \"0-40\"\n",
    "name11 = \"GameA\"\n",
    "name12 = \"40-15\"\n",
    "name13 = \"30-30\"\n",
    "name14 = \"15-40\"\n",
    "name15 = \"GameB\"\n",
    "name16 = \"40-30\"\n",
    "name17 = \"30-40\"\n",
    "name18 = \"Deuce\"\n",
    "name19 = \"advA\"\n",
    "name20 = \"advB\"\n",
    "\n",
    "p = .6\n",
    "\n",
    "# A dictionary for the transition probability  matrix. \n",
    "# Every state-key corresponds to a list with tuples of (Next_State,Probability) \n",
    "markov_table = {\n",
    "    name1: {name2: p, name3: 1-p},\n",
    "    name2: {name4: p, name5: 1-p},\n",
    "    name3: {name5: p, name6: 1-p},\n",
    "    name4: {name7: p, name8: 1-p},\n",
    "    name5: {name8: p, name9: 1-p},\n",
    "    name6: {name9: p, name10: 1-p},\n",
    "    name7: {name11: p, name12: 1-p},\n",
    "    name8: {name12: p, name13: 1-p},\n",
    "    name9: {name13: p, name14: 1-p},\n",
    "    name10: {name14: p, name15: 1-p},\n",
    "    name11: {name11: 1},\n",
    "    name12: {name11: p, name16: 1-p},\n",
    "    name13: {name16: p, name17: 1-p},\n",
    "    name14: {name17: p, name15:1-p},\n",
    "    name15: {name15: 1},\n",
    "    name16: {name11: p, name18: 1-p},\n",
    "    name17: {name18: p, name15: 1-p},\n",
    "    name18: {name19: p, name20:1-p},\n",
    "    name19: {name11: p, name18:1-p},\n",
    "    name20: {name18: p, name15:1-p}\n",
    "}\n",
    " \n",
    "# A dictionary for the initial distribution. \n",
    "# We prescribe the initial distribution\n",
    "init_probs = {name1: 1.0} \n",
    "\n",
    "\n",
    "# Ok... we are ready now\n",
    "# Let's construct a Markov Chain. So let's call the constructor\n",
    "mc = markov_chain(markov_table, init_probs)\n",
    "## Experiment parameters\n",
    "N = 1000000  # number of samples\n",
    "counter = 0  # to count the number of times the event occurs\n",
    "\n",
    "## Simulation\n",
    "for i in range(N):\n",
    "    mc.start()  # new experiment\n",
    "    while (mc.running_state != name11 and mc.running_state != name15):  mc.move()  \n",
    "    if mc.running_state == name11:  counter += 1\n",
    "            \n",
    "phat = (counter / N)\n",
    "    \n",
    "print(\n",
    "    \"\"\"\n",
    "    We executed {0} times the markov chain\n",
    "    and player A won {1} times.\n",
    "    So we estimate the probability of him to win to be {2}\n",
    "    \"\"\".format(N, counter, phat)\n",
    ")\n"
   ]
  }
 ],
 "metadata": {
  "kernelspec": {
   "display_name": "Python 3",
   "language": "python",
   "name": "python3"
  },
  "language_info": {
   "codemirror_mode": {
    "name": "ipython",
    "version": 3
   },
   "file_extension": ".py",
   "mimetype": "text/x-python",
   "name": "python",
   "nbconvert_exporter": "python",
   "pygments_lexer": "ipython3",
   "version": "3.6.0"
  }
 },
 "nbformat": 4,
 "nbformat_minor": 2
}
